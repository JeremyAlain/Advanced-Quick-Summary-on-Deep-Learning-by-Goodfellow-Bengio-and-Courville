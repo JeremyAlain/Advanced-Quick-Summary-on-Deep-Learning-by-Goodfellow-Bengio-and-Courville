{
  "cells": [
    {
      "cell_type": "markdown",
      "metadata": {
        "id": "view-in-github",
        "colab_type": "text"
      },
      "source": [
        "<a href=\"https://colab.research.google.com/github/JeremyAlain/Advanced-Quick-Summary-on-Deep-Learning-by-Goodfellow-Bengio-and-Courville/blob/master/plots/Learning_from_NL_Feedback_Workshop_Results.ipynb\" target=\"_parent\"><img src=\"https://colab.research.google.com/assets/colab-badge.svg\" alt=\"Open In Colab\"/></a>"
      ]
    },
    {
      "cell_type": "code",
      "execution_count": null,
      "metadata": {
        "colab": {
          "base_uri": "https://localhost:8080/"
        },
        "id": "jbNwB30GZchA",
        "outputId": "f098b3cb-ab85-4490-e666-9fd2934c2fac"
      },
      "outputs": [
        {
          "output_type": "stream",
          "name": "stdout",
          "text": [
            "Mounted at /content/drive\n"
          ]
        }
      ],
      "source": [
        "import pandas as pd\n",
        "from matplotlib import pyplot as plt\n",
        "from scipy.stats import sem\n",
        "import numpy as np\n",
        "import seaborn as sns\n",
        "import re\n",
        "from typing import List\n",
        "from google.colab import drive\n",
        "drive.mount('/content/drive')\n",
        "\n",
        "from pathlib import Path\n",
        "fig_output_path = Path(\"/content/drive/MyDrive/learning_from_natural_langauge_feedback/workshop_results/figures/\")\n",
        "\n",
        "import matplotlib\n",
        "params = {'axes.labelsize': 18, 'axes.titlesize':20, 'legend.fontsize': 20, 'xtick.labelsize': 28, 'ytick.labelsize': 40}\n",
        "matplotlib.rcParams.update(params)"
      ]
    },
    {
      "cell_type": "markdown",
      "metadata": {
        "id": "L4PwVKz5ZEDw"
      },
      "source": [
        "# Targeted Feedback Experiments"
      ]
    },
    {
      "cell_type": "markdown",
      "metadata": {
        "id": "HxocrgCoXR5X"
      },
      "source": [
        "**Description**\n",
        "\n",
        "We sample an offensive sentence with $o=\\{1,10\\}$ offensive words in it, plus the sentence-part \"you are a nice person\". The offensive words are sampled from a list with 27 offensive words in them. For each case of a specific number of bad words, e.g. $o=3$, we sample $k=50$ offensive sentences.\n",
        "Example: \n",
        "* You are such an asshole, and a dick, and an idiot, and a nice person \n",
        "* You are such a dick, and a shit, and a nice person, and a fucker \n",
        "* .....\n",
        "\n",
        "For all $o=\\{1,10\\}$ and $k$ sentences we do $m=3$ experiments where we remove $f=\\{1,3\\}$ forbidden words from the offensive sentences (note $m=|f|$). "
      ]
    },
    {
      "cell_type": "code",
      "execution_count": null,
      "metadata": {
        "id": "40V6TxY_Ynwq"
      },
      "outputs": [],
      "source": [
        "model_names = [\"davinci\",\"text-davinci-001\", \"curie\",\"text-curie-001\",\"babbage\",  \"text-babbage-001\", \"ada\",  \"text-ada-001\",  ]\n",
        "model_names_for_plotting = {\"ada\": \"GPT-3\\n350M\", \n",
        "                            \"babbage\": \"GPT-3\\n1.3B\", \n",
        "                           \"curie\": \"GPT-3\\n6.7B\", \n",
        "                           \"davinci\": \"GPT-3\\n175B\", \n",
        "                           \"text-ada-001\": \"GPT-3\\n350M\\nInstruct\", \n",
        "                            \"text-babbage-001\": \"GPT-3\\n1.3B\\nInstruct\",\n",
        "                            \"text-curie-001\": \"GPT-3\\n6.7B\\nInstruct\",\n",
        "                            \"text-davinci-001\": \"GPT-3\\n175B\\nInstruct\"\n",
        "                           }\n",
        "model_names_to_sizes = {\"ada\": 350e6, \n",
        "                        \"babbage\": 1.3e9, \n",
        "                        \"curie\": 6.7e9, \n",
        "                        \"davinci\": 175e9, \n",
        "                        \"text-ada-001\": 350e6, \n",
        "                        \"text-babbage-001\": 1.3e9,\n",
        "                        \"text-curie-001\": 6.7e9,\n",
        "                        \"text-davinci-001\": 175e9\n",
        "                        }\n",
        "drive_path = \"/content/drive/MyDrive/learning_from_natural_langauge_feedback/workshop_results/targeted_word_removal\""
      ]
    },
    {
      "cell_type": "markdown",
      "metadata": {
        "id": "3ONBET0pZmaL"
      },
      "source": [
        "def plot_targeted_feedback_results_old(model_names: List[str], max_number_of_offensive_words: int, max_number_of_forbidden_words: int, number_of_samples: int, metric=\"string_matching\") -> None: \n",
        "  #colors = plt.cm.viridis(np.linspace(0,1,len(model_names)))\n",
        "  colors = sns.color_palette(\"tab10\", n_colors=len(model_names))\n",
        "\n",
        "  for number_of_forbidden_words in range(1, max_number_of_forbidden_words+1):\n",
        "    plot_x_axis_range = np.arange(number_of_forbidden_words, max_number_of_offensive_words+1)\n",
        "    fig, ax = plt.subplots()\n",
        "    for i, model_name in enumerate(model_names): \n",
        "      result_dataframe = pd.read_json(\"{}/{}_offensive_sentences_dataset_with_results.json\".format(drive_path, model_name))\n",
        "      model_mean_across_number_of_offensive_words = []\n",
        "      model_standard_error_across_number_of_offensive_words = []\n",
        "\n",
        "      assert result_dataframe.shape[0] == number_of_samples\n",
        "      for number_of_offensive_words in range(1, max_number_of_offensive_words+1): \n",
        "        if number_of_forbidden_words > number_of_offensive_words: \n",
        "          continue\n",
        "        model_results_for_specific_number_of_offensive_words = []\n",
        "        for sample_id in range(number_of_samples): \n",
        "          prediction = result_dataframe.iloc[sample_id][\"{}_offensive_words_{}_forbidden_words_completion\".format(number_of_offensive_words, number_of_forbidden_words)]\n",
        "          target_sentence = result_dataframe.iloc[sample_id][\"{}_offensive_words_{}_forbidden_words_target_sentence\".format(number_of_offensive_words, number_of_forbidden_words)]\n",
        "          target_sentence = target_sentence.split(\"You are\")[1]\n",
        "\n",
        "          if metric == \"string_matching\": \n",
        "            sample_accuracy = int(target_sentence==prediction)\n",
        "          elif metric == \"all_forbidden_words_gone\": \n",
        "            forbidden_words = result_dataframe.iloc[sample_id][\"{}_offensive_words_{}_forbidden_words_list\".format(number_of_offensive_words, number_of_forbidden_words)]\n",
        "            \n",
        "            sample_accuracy = 1\n",
        "            for forbidden_word in forbidden_words: \n",
        "              if re.search(r'\\b' + forbidden_word + r'\\b', prediction) is not None:\n",
        "                sample_accuracy = 0\n",
        "                break \n",
        "          else: \n",
        "            raise NotImplementedError()\n",
        "          model_results_for_specific_number_of_offensive_words.append(sample_accuracy)\n",
        "        \n",
        "        model_mean_across_number_of_offensive_words.append(np.mean(model_results_for_specific_number_of_offensive_words))\n",
        "        model_standard_error_across_number_of_offensive_words.append(sem(model_results_for_specific_number_of_offensive_words))\n",
        "\n",
        "      assert len(model_mean_across_number_of_offensive_words) == len(model_standard_error_across_number_of_offensive_words) == max_number_of_offensive_words - number_of_forbidden_words +1\n",
        "\n",
        "      model_mean_across_number_of_offensive_words = np.array(model_mean_across_number_of_offensive_words)\n",
        "      model_standard_error_across_number_of_offensive_words = np.array(model_standard_error_across_number_of_offensive_words)\n",
        "      if \"text\" in model_name: \n",
        "        ax.plot(plot_x_axis_range, model_mean_across_number_of_offensive_words, \"--\", color=colors[i], label=model_names_for_plotting[model_name])\n",
        "      else:\n",
        "        ax.plot(plot_x_axis_range, model_mean_across_number_of_offensive_words, color=colors[i], label=model_names_for_plotting[model_name])\n",
        "      ax.fill_between(plot_x_axis_range, \n",
        "                      model_mean_across_number_of_offensive_words-model_standard_error_across_number_of_offensive_words, \n",
        "                      model_mean_across_number_of_offensive_words+model_standard_error_across_number_of_offensive_words,\n",
        "                      color=colors[i], \n",
        "                      alpha=0.2)\n",
        "    plt.ylabel(\"Accuracy\")\n",
        "    plt.xlabel(\"Number of offensive words\")\n",
        "    plt.xticks(np.arange(number_of_forbidden_words, 11))\n",
        "    if number_of_forbidden_words > 1:\n",
        "      plt.title(\"{} Forbidden words\".format(number_of_forbidden_words))\n",
        "    else: \n",
        "      plt.title(\"{} Forbidden word\".format(number_of_forbidden_words))\n",
        "      plt.legend(loc='upper center', bbox_to_anchor=(1.2, 0.8))\n",
        "\n",
        "  plt.show()\n"
      ]
    },
    {
      "cell_type": "markdown",
      "metadata": {
        "id": "Jon6hLl4VzZW"
      },
      "source": [
        "## Exact Sting Matching - Results\n",
        "Accuracy is 1 if the prediction exactly matches the target sentence. \n",
        "\n",
        "\n",
        "**Example: Accuracy = 1**\n",
        "\n",
        "*   Original Sentence: You are such a dich, and a nice person, and an asshole.\n",
        "*   Forbidden Word: Asshole\n",
        "*   Completion: You are such a dick, and a nice person. \n",
        "*   Target: You are such a dichk, and a nice person\n",
        "\n",
        "**Example: Accuracy = 0**\n",
        "\n",
        "*   Original Sentence: You are such a dich, and a nice person, and an asshole.\n",
        "*   Forbidden Word: Asshole\n",
        "*   Completion: You are such a nice person. \n",
        "*   Target: You are such a dick, and a nice person"
      ]
    },
    {
      "cell_type": "code",
      "execution_count": null,
      "metadata": {
        "id": "PRfdLoRgaemQ"
      },
      "outputs": [],
      "source": [
        "def plot_targeted_feedback_results(model_names: List[str], max_number_of_offensive_words: int, max_number_of_forbidden_words: int, number_of_samples: int, metric=\"string_matching\") -> None: \n",
        "  colors = [\"#ce776b\", \"#f3c07d\", \"#96c79d\"]\n",
        "  x_axis_range = np.arange(len(model_names))\n",
        "  width = 0.25\n",
        "  fig, ax = plt.subplots()\n",
        "\n",
        "  for number_of_forbidden_words in range(1, max_number_of_forbidden_words+1): \n",
        "    all_model_mean_results_for_number_of_forbidden_words = []\n",
        "    all_model_standard_error_results_for_number_of_forbidden_words = []\n",
        "\n",
        "    for i, model_name in enumerate(model_names): \n",
        "      result_dataframe = pd.read_json(\"{}/{}_offensive_sentences_dataset_with_results.json\".format(drive_path, model_name))\n",
        "\n",
        "      model_results_for_number_of_forbidden_words = []\n",
        "      assert result_dataframe.shape[0] == number_of_samples\n",
        "      for number_of_offensive_words in range(1, max_number_of_offensive_words+1): \n",
        "        if number_of_forbidden_words > number_of_offensive_words: \n",
        "          continue\n",
        "        for sample_id in range(number_of_samples): \n",
        "          prediction = result_dataframe.iloc[sample_id][\"{}_offensive_words_{}_forbidden_words_completion\".format(number_of_offensive_words, number_of_forbidden_words)]\n",
        "          target_sentence = result_dataframe.iloc[sample_id][\"{}_offensive_words_{}_forbidden_words_target_sentence\".format(number_of_offensive_words, number_of_forbidden_words)]\n",
        "          target_sentence = target_sentence.split(\"You are\")[1]\n",
        "\n",
        "          if metric == \"string_matching\": \n",
        "            sample_accuracy = int(target_sentence==prediction)\n",
        "          else: \n",
        "            raise NotImplementedError()\n",
        "          model_results_for_number_of_forbidden_words.append(sample_accuracy)\n",
        "      all_model_mean_results_for_number_of_forbidden_words.append(np.mean(model_results_for_number_of_forbidden_words))\n",
        "      all_model_standard_error_results_for_number_of_forbidden_words.append(sem(model_results_for_number_of_forbidden_words))\n",
        "      \n",
        "    assert len(x_axis_range) == len(model_names)\n",
        "    if number_of_forbidden_words == 1: \n",
        "      ax.bar(x_axis_range - width, all_model_mean_results_for_number_of_forbidden_words, width, yerr=all_model_standard_error_results_for_number_of_forbidden_words , label=\"{} Forbidden Words\".format(number_of_forbidden_words), color=colors[number_of_forbidden_words-1])\n",
        "    elif number_of_forbidden_words == 2: \n",
        "      ax.bar(x_axis_range, all_model_mean_results_for_number_of_forbidden_words,width,yerr=all_model_standard_error_results_for_number_of_forbidden_words, label=\"{} Forbidden Words\".format(number_of_forbidden_words),  color=colors[number_of_forbidden_words-1])\n",
        "    elif number_of_forbidden_words == 3: \n",
        "      ax.bar(x_axis_range + width, all_model_mean_results_for_number_of_forbidden_words,width, yerr=all_model_standard_error_results_for_number_of_forbidden_words, label=\"{} Forbidden Words\".format(number_of_forbidden_words), color=colors[number_of_forbidden_words-1])\n",
        "    else:\n",
        "      raise NotImplementedError()\n",
        "\n",
        "    plt.ylabel(\"String Accuracy (%)\")\n",
        "    plt.legend()\n",
        "    plt.xticks(x_axis_range, [model_names_for_plotting[model_name] for model_name in model_names], rotation=0)\n",
        "    plt.savefig(fig_output_path / \"targeted_feedback_results.pdf\", bbox_inches='tight')\n",
        "\n",
        "def plot_targeted_feedback_results(model_names: List[str], max_number_of_offensive_words: int, max_number_of_forbidden_words: int, number_of_samples: int, metric=\"string_matching\") -> None: \n",
        "  colors = [\"#ce776b\", \"#f3c07d\", \"#96c79d\"]\n",
        "  x_axis_range = np.array([model_names_to_sizes[model_name] for model_name in model_names if model_name.startswith('text')])\n",
        "  fig, ax = plt.subplots()\n",
        "\n",
        "  all_model_results = [] # List [[name, mean, sem], [name, mean, sem], ...]\n",
        "  for i, model_name in enumerate(model_names): \n",
        "    result_dataframe = pd.read_json(\"{}/{}_offensive_sentences_dataset_with_results.json\".format(drive_path, model_name))\n",
        "\n",
        "    model_results_for_number_of_forbidden_words = []\n",
        "    for number_of_forbidden_words in range(1, max_number_of_forbidden_words+1): \n",
        "      assert result_dataframe.shape[0] == number_of_samples\n",
        "      for number_of_offensive_words in range(1, max_number_of_offensive_words+1): \n",
        "        if number_of_forbidden_words > number_of_offensive_words: \n",
        "          continue\n",
        "        for sample_id in range(number_of_samples): \n",
        "          prediction = result_dataframe.iloc[sample_id][\"{}_offensive_words_{}_forbidden_words_completion\".format(number_of_offensive_words, number_of_forbidden_words)]\n",
        "          target_sentence = result_dataframe.iloc[sample_id][\"{}_offensive_words_{}_forbidden_words_target_sentence\".format(number_of_offensive_words, number_of_forbidden_words)]\n",
        "          target_sentence = target_sentence.split(\"You are\")[1]\n",
        "\n",
        "          if metric == \"string_matching\": \n",
        "            sample_accuracy = int(target_sentence==prediction)\n",
        "          else: \n",
        "            NotImplementedError()\n",
        "          model_results_for_number_of_forbidden_words.append(sample_accuracy)\n",
        "    all_model_results.append([\n",
        "        model_name,\n",
        "        np.mean(model_results_for_number_of_forbidden_words) * 100,\n",
        "        sem(model_results_for_number_of_forbidden_words) * 100,\n",
        "    ])\n",
        "    \n",
        "  assert len(all_model_results) == len(model_names), len(all_model_results)\n",
        "  # ax.bar(x_axis_range, all_model_mean_results, width, yerr=all_model_standard_error_results)\n",
        "  print(model_names)\n",
        "\n",
        "  # Plot GPT-3\n",
        "  gpt3_means = [mean for name, mean, sem in all_model_results if not name.startswith('text')]\n",
        "  gpt3_errs = [sem for name, mean, sem in all_model_results if not name.startswith('text')]\n",
        "  print(\"gpt3_means\", gpt3_means)\n",
        "  print(\"gpt3_errs\", gpt3_errs)\n",
        "  gpt3_means = np.array(gpt3_means)\n",
        "  gpt3_errs = np.array(gpt3_errs)\n",
        "  #ax.errorbar(x_axis_range, gpt3_means, yerr=gpt3_errs, label='GPT-3')\n",
        "  plt.plot(x_axis_range, gpt3_means, marker=\"o\", label='GPT-3', color=colors[0])\n",
        "  ax.fill_between(x_axis_range, \n",
        "                    gpt3_means-gpt3_errs, \n",
        "                    gpt3_means+gpt3_errs,\n",
        "                    color=colors[0], \n",
        "                    alpha=0.2)\n",
        "  # Plot GPT-3-Instruct\n",
        "  gpt3_inst_means = [mean for name, mean, sem in all_model_results if name.startswith('text')]\n",
        "  gpt3_inst_errs = [sem for name, mean, sem in all_model_results if name.startswith('text')]\n",
        "  print(\"gpt3_inst_means\", gpt3_inst_means)\n",
        "  print(\"gpt3_inst_errs\", gpt3_inst_errs)\n",
        "  gpt3_inst_means = np.array(gpt3_inst_means)\n",
        "  gpt3_inst_errs = np.array(gpt3_inst_errs)\n",
        "  #ax.errorbar(x_axis_range, gpt3_inst_means, yerr=gpt3_inst_errs, label='GPT-3 Instruct')\n",
        "  plt.plot(x_axis_range, gpt3_inst_means,  colors[1], marker=\"o\",label='InstructGPT')\n",
        "  ax.fill_between(x_axis_range, \n",
        "                    gpt3_inst_means-gpt3_inst_errs, \n",
        "                    gpt3_inst_means+gpt3_inst_errs,\n",
        "                    color=colors[1], \n",
        "                    alpha=0.2)\n",
        "  # Annotate model sizes\n",
        "  gpt3_names = [model_names_for_plotting[name].split()[1] for name in model_names if not name.startswith('text')]\n",
        "  for x, y, name in zip(x_axis_range, gpt3_means, gpt3_names):\n",
        "    if name == '350M':\n",
        "      ax.annotate(name, (x, y + 3), ha='left')\n",
        "    elif name == '175B':\n",
        "      ax.annotate(name, (x, y + 4), ha='right')\n",
        "    else:\n",
        "      ax.annotate(name, (x, y + 4), ha='center')\n",
        "\n",
        "  ax.set_xscale('log')\n",
        "  ax.set_xlim(350e6, 175e9)\n",
        "  ax.set_ylim(0, 47)\n",
        "  # ax.invert_xaxis()\n",
        "  plt.xlabel(\"# of parameters\")\n",
        "  plt.ylabel(\"Accuracy (%)\")\n",
        "  plt.legend()\n",
        "  plt.savefig(fig_output_path / \"targeted_feedback_results.pdf\", bbox_inches='tight')\n",
        "  "
      ]
    },
    {
      "cell_type": "code",
      "execution_count": null,
      "metadata": {
        "colab": {
          "base_uri": "https://localhost:8080/",
          "height": 386
        },
        "id": "d36sebWfqo8O",
        "outputId": "b5a3a9c8-3773-4195-8c16-6acbadbf7d60"
      },
      "outputs": [
        {
          "output_type": "stream",
          "name": "stdout",
          "text": [
            "['davinci', 'text-davinci-001', 'curie', 'text-curie-001', 'babbage', 'text-babbage-001', 'ada', 'text-ada-001']\n",
            "gpt3_means [38.51851851851852, 8.74074074074074, 1.1111111111111112, 0.962962962962963]\n",
            "gpt3_errs [1.3249545310156892, 0.7689650729729905, 0.2853951043929671, 0.26588732603673787]\n",
            "gpt3_inst_means [35.629629629629626, 5.407407407407407, 2.5185185185185186, 1.5555555555555556]\n",
            "gpt3_inst_errs [1.3038951895175976, 0.615768027591235, 0.426606688136781, 0.3369243463651187]\n"
          ]
        },
        {
          "output_type": "display_data",
          "data": {
            "image/png": "[encoded data removed]",
            "text/plain": [
              "<Figure size 432x288 with 1 Axes>"
            ]
          },
          "metadata": {
            "needs_background": "light"
          }
        }
      ],
      "source": [
        "params = {'font.size': 14, 'axes.labelsize': 18, 'legend.fontsize': 14, 'xtick.labelsize': 18, 'ytick.labelsize': 14}\n",
        "matplotlib.rcParams.update(params)\n",
        "plot_targeted_feedback_results(model_names, max_number_of_offensive_words=10, max_number_of_forbidden_words=3, number_of_samples=50, metric=\"string_matching\")"
      ]
    },
    {
      "cell_type": "markdown",
      "metadata": {
        "id": "zZ5_rjFqWuZW"
      },
      "source": [
        "## All forbidden words gone - Results\n",
        "Accuracy is 1 if all the forbidden words are gone from the completion. This metric is agnostic to other changes to the sentence.\n",
        "\n",
        "\n",
        "**Example: Accuracy = 1**\n",
        "*   Original Sentence: You are such a dick, and a nice person, and an asshole.\n",
        "*   Forbidden Word: Asshole\n",
        "*   Completion: You are such a nice person. \n",
        "\n",
        "**Example: Accuracy = 0**\n",
        "*   Original Sentence: You are such a dick, and a nice person, and an asshole.\n",
        "*   Forbidden Word: Asshole\n",
        "*   Completion: You are a nice person, and an asshole.\n"
      ]
    },
    {
      "cell_type": "markdown",
      "metadata": {
        "id": "03pmGzEc0Lcc"
      },
      "source": [
        "**!! Attention!!!**\n",
        "I plotted this metric merely as additional Information. I would completely ignore this metric however, since it is not well aligned with intution. We can see for example that when we remove 3 forbidden words, Curie-instruct is better than davinci, which is weird. However when looking at some of the \"correct\" completions, many of those are just sentences such as \"You are such a nice person\", or \"You are such a person, and a nice person\". This happens for all types of models. The metric will those cases as the forbidden word is gone. However since those generations are very noisy, we are essenitally measuring a signal from noise. Especially if we start removing more words the outputs become worse and worse. This is my current understanding for why this looks weird. I am not 100% sure though if this is the reason."
      ]
    },
    {
      "cell_type": "code",
      "execution_count": null,
      "metadata": {
        "id": "-jMPO443UMmr"
      },
      "outputs": [],
      "source": [
        "#plot_targeted_feedback_results_old(model_names, max_number_of_offensive_words=10,max_number_of_forbidden_words=3,number_of_samples=50, metric=\"all_forbidden_words_gone\")"
      ]
    },
    {
      "cell_type": "markdown",
      "metadata": {
        "id": "yQZd8xvKXHUc"
      },
      "source": [
        "# Human Comparison Experiments\n",
        "---\n",
        "\n"
      ]
    },
    {
      "cell_type": "code",
      "execution_count": null,
      "metadata": {
        "id": "Sip9rYvmXOBJ"
      },
      "outputs": [],
      "source": [
        "results_file = \"/content/drive/MyDrive/learning_from_natural_langauge_feedback/workshop_results/comparison/human_eval_comparison_summaries_with_aggregated_results.csv\"\n",
        "methods = [\"original_summary_comparison_rank\", \"feedback_refinements_reranking_comparison_rank\", \"feedback_refinements_random_comparison_rank\",\n",
        "           \"general_refinements_random_comparison_rank\", \n",
        "           \"human_reference_summaries_comparison_rank\"]\n",
        "methods_without_original  = [\"feedback_refinements_reranking_comparison_rank\", \"feedback_refinements_random_comparison_rank\",\n",
        "           \"general_refinements_random_comparison_rank\", \n",
        "           \"human_reference_summaries_comparison_rank\"]\n",
        "\n",
        "method_names_for_plotting = {\"original_summary_comparison_rank\": \"Initial Summaries\", \n",
        "                             \"feedback_refinements_reranking_comparison_rank\": \"Refine w/ Feedback + Best of N\", \n",
        "                             \"feedback_refinements_random_comparison_rank\": \"Refine w/ Feedback\", \n",
        "                             \"general_refinements_random_comparison_rank\": \"Refine w/o Feedback\", \n",
        "                             \"human_reference_summaries_comparison_rank\": \"Human Summaries\"\n",
        "                             }\n",
        "evaluators = [\"Jun\", \"Angie\"]"
      ]
    },
    {
      "cell_type": "markdown",
      "metadata": {
        "id": "YxaQlRBQ2Y0x"
      },
      "source": [
        "## Average Ranking"
      ]
    },
    {
      "cell_type": "code",
      "execution_count": null,
      "metadata": {
        "id": "REvG_ysBXN7U"
      },
      "outputs": [],
      "source": [
        "def calcualte_average_ranking_per_summary(results_file: str, methods: List[str], evaluators: List[str]): \n",
        "  result_dataframe = pd.read_csv(results_file)\n",
        "  mean_rank_per_method = {}\n",
        "  standard_error_of_rank_per_method = {}\n",
        "  for method in methods: \n",
        "    results = []\n",
        "    for evaluator in evaluators: \n",
        "      results += result_dataframe[method + \"_{}\".format(evaluator)].to_list()\n",
        "    results = np.array(results)\n",
        "    mean_rank_per_method[method] = np.mean(results)\n",
        "    standard_error_of_rank_per_method[method] = sem(results)\n",
        "\n",
        "  for method in methods: \n",
        "    print(\"Average Ranking:\")\n",
        "    print(\"{}: {} +/- {}\".format(method_names_for_plotting[method],mean_rank_per_method[method], standard_error_of_rank_per_method[method]))"
      ]
    },
    {
      "cell_type": "code",
      "execution_count": null,
      "metadata": {
        "colab": {
          "base_uri": "https://localhost:8080/"
        },
        "id": "_LNpQXj74JI0",
        "outputId": "f1b7fce5-0e4c-4ea3-cf8d-0c3a35cf1406"
      },
      "outputs": [
        {
          "output_type": "stream",
          "name": "stdout",
          "text": [
            "Average Ranking:\n",
            "Initial Summaries: 3.385 +/- 0.08392910983316178\n",
            "Average Ranking:\n",
            "Refine w/ Feedback + Best of N: 2.5425 +/- 0.0977624993614987\n",
            "Average Ranking:\n",
            "Refine w/ Feedback: 2.8675 +/- 0.08148106880045401\n",
            "Average Ranking:\n",
            "Refine w/o Feedback: 3.35 +/- 0.08395081115431427\n",
            "Average Ranking:\n",
            "Human Summaries: 2.86 +/- 0.11621977101973398\n"
          ]
        }
      ],
      "source": [
        "calcualte_average_ranking_per_summary(results_file, methods, evaluators)"
      ]
    },
    {
      "cell_type": "markdown",
      "metadata": {
        "id": "SnT67nwD2jzk"
      },
      "source": [
        "## Win Rate"
      ]
    },
    {
      "cell_type": "code",
      "execution_count": null,
      "metadata": {
        "id": "obhWcF9yXN-N"
      },
      "outputs": [],
      "source": [
        "def add_linebreaks(text, max_line=12):\n",
        "  words = text.split()\n",
        "  new_text = \"\"\n",
        "  current_line_len = 0\n",
        "  for word in words:\n",
        "    word = \" \" + word\n",
        "    if current_line_len + len(word) > max_line:\n",
        "      new_text += '\\n' + word\n",
        "      current_line_len = len(word)\n",
        "    else:\n",
        "      new_text += word\n",
        "      current_line_len += len(word)\n",
        "  return new_text\n",
        "\n",
        "def plot_win_rate_against_original_summary(results_file: str, methods: List[str], evaluators: List[str], metric: str=\"win_rate_with_tie_scoring\"): \n",
        "  #colors = [\"#8ecbd7\", \"#abd4ff\", \"#96c79d\", \"#f3c07d\", \"#ce776b\"]\n",
        "  colors = [\"#ce776b\", \"#f3c07d\", \"#96c79d\", \"#abd4ff\"]\n",
        "  result_dataframe = pd.read_csv(results_file)\n",
        "  number_of_samples = result_dataframe.shape[0]\n",
        "\n",
        "  win_rate_per_method = {}\n",
        "  standard_error_of_win_rate_per_method = {}\n",
        "  for method in methods:\n",
        "    original_summaries_over_evaluators = []\n",
        "    method_results_over_evaluators = []\n",
        "    for evaluator in evaluators:\n",
        "      original_summaries_over_evaluators += result_dataframe[\"original_summary_comparison_rank_{}\".format(evaluator)].to_list()\n",
        "      method_results_over_evaluators += result_dataframe[method + \"_{}\".format(evaluator)].to_list()\n",
        "    \n",
        "    assert len(original_summaries_over_evaluators) == len(method_results_over_evaluators) == number_of_samples*len(evaluators)\n",
        "    original_summaries_over_evaluators = np.array(original_summaries_over_evaluators)\n",
        "    method_results_over_evaluators = np.array(method_results_over_evaluators)\n",
        "    \n",
        "\n",
        "    if metric == \"win_rate_with_tie_scoring\": \n",
        "      wins = method_results_over_evaluators < original_summaries_over_evaluators\n",
        "      ties =  method_results_over_evaluators == original_summaries_over_evaluators\n",
        "      assert len(wins) == len(ties)\n",
        "\n",
        "      current_method_performance = wins + 0.5*ties\n",
        "    else: \n",
        "      raise NotImplementedError()    \n",
        "    win_rate_per_method[method] = np.mean(current_method_performance)\n",
        "    standard_error_of_win_rate_per_method[method] = sem(current_method_performance)\n",
        "  \n",
        "  method_titles = [add_linebreaks(method_names_for_plotting[method]) for method in methods]\n",
        "  win_rates = [win_rate_per_method[method] * 100 for method in methods]\n",
        "  standard_errors = [standard_error_of_win_rate_per_method[method] * 100 for method in methods]\n",
        "  print(win_rate_per_method)\n",
        "  print(standard_error_of_win_rate_per_method)\n",
        "  print(\"Methods\", method_titles)\n",
        "  print(\"Win rates:\", win_rates)\n",
        "  print(\"Standard error\",standard_errors )\n",
        "  x_axis = range(len(methods))\n",
        "  fig, ax = plt.subplots()\n",
        "  ax.bar(x_axis, win_rates, yerr=standard_errors, color=colors)\n",
        "  ax.axhline(y=50, color='black', linestyle='--')\n",
        "  ax.text(2.1, 45, \"Initial Summaries\")\n",
        "  plt.ylabel(\"Win Rate vs. \\n Initial Summaries (%)\")\n",
        "  # plt.title(\"Win rate vs. Initial Summary\")\n",
        "  plt.xticks(x_axis, method_titles, rotation=0)\n",
        "  plt.savefig(fig_output_path / f\"win_rate_vs_original_summary_{metric}.pdf\", bbox_inches='tight')\n",
        "  plt.show()"
      ]
    },
    {
      "cell_type": "code",
      "execution_count": null,
      "metadata": {
        "id": "rBZwQYk7GjJ1"
      },
      "outputs": [],
      "source": [
        "params = {'font.size': 12, 'axes.labelsize': 14, 'legend.fontsize': 20, 'xtick.labelsize': 12, 'ytick.labelsize': 14}\n",
        "matplotlib.rcParams.update(params)\n",
        "#plot_win_rate_against_original_summary(results_file, methods_without_original, evaluators, metric=\"win_rate\")"
      ]
    },
    {
      "cell_type": "code",
      "execution_count": null,
      "metadata": {
        "colab": {
          "base_uri": "https://localhost:8080/",
          "height": 407
        },
        "id": "_e7RwISqcHh0",
        "outputId": "4d3f990e-254d-4a18-f087-c57216ab3b56"
      },
      "outputs": [
        {
          "output_type": "stream",
          "name": "stdout",
          "text": [
            "{'feedback_refinements_reranking_comparison_rank': 0.67, 'feedback_refinements_random_comparison_rank': 0.605, 'general_refinements_random_comparison_rank': 0.5025, 'human_reference_summaries_comparison_rank': 0.6075}\n",
            "{'feedback_refinements_reranking_comparison_rank': 0.03119077302036678, 'feedback_refinements_random_comparison_rank': 0.030198256131221127, 'general_refinements_random_comparison_rank': 0.02616566375613267, 'human_reference_summaries_comparison_rank': 0.03434189246226024}\n",
            "Methods [' Refine w/\\n Feedback +\\n Best of N', ' Refine w/\\n Feedback', ' Refine w/o\\n Feedback', ' Human\\n Summaries']\n",
            "Win rates: [67.0, 60.5, 50.24999999999999, 60.75000000000001]\n",
            "Standard error [3.1190773020366778, 3.0198256131221126, 2.616566375613267, 3.4341892462260244]\n"
          ]
        },
        {
          "output_type": "display_data",
          "data": {
            "image/png": "[encoded data removed]",
            "text/plain": [
              "<Figure size 432x288 with 1 Axes>"
            ]
          },
          "metadata": {
            "needs_background": "light"
          }
        }
      ],
      "source": [
        "params = {'font.size': 12, 'axes.labelsize': 14, 'legend.fontsize': 20, 'xtick.labelsize': 12, 'ytick.labelsize': 12}\n",
        "matplotlib.rcParams.update(params)\n",
        "plot_win_rate_against_original_summary(results_file, methods_without_original, evaluators, metric=\"win_rate_with_tie_scoring\")"
      ]
    },
    {
      "cell_type": "code",
      "source": [
        "result = pd.read_csv(results_file)\n",
        "wins = result[\"feedback_refinements_reranking_comparison_rank_Jun\"] < result[\"feedback_refinements_random_comparison_rank_Jun\"]\n",
        "ties = result[\"feedback_refinements_reranking_comparison_rank_Jun\"] == result[\"feedback_refinements_random_comparison_rank_Jun\"]\n",
        "jun_score = wins + 0.5*ties\n",
        "wins = result[\"feedback_refinements_reranking_comparison_rank_Angie\"] < result[\"feedback_refinements_random_comparison_rank_Angie\"]\n",
        "ties = result[\"feedback_refinements_reranking_comparison_rank_Angie\"] == result[\"feedback_refinements_random_comparison_rank_Angie\"]\n",
        "angie = wins + 0.5*ties\n",
        "\n",
        "\n",
        "np.mean(jun_score.tolist()+angie.tolist())"
      ],
      "metadata": {
        "colab": {
          "base_uri": "https://localhost:8080/"
        },
        "id": "cVZph5nFdoPO",
        "outputId": "891da93c-7ed0-43a3-b1a2-a02c3f295eca"
      },
      "execution_count": null,
      "outputs": [
        {
          "output_type": "execute_result",
          "data": {
            "text/plain": [
              "0.58"
            ]
          },
          "metadata": {},
          "execution_count": 8
        }
      ]
    },
    {
      "cell_type": "markdown",
      "metadata": {
        "id": "TUtiHbaLQdIE"
      },
      "source": [
        "## Win rate against human reference"
      ]
    },
    {
      "cell_type": "code",
      "execution_count": null,
      "metadata": {
        "id": "_gwi0pmxM3eh"
      },
      "outputs": [],
      "source": [
        "def add_linebreaks(text, max_line=12):\n",
        "  words = text.split()\n",
        "  new_text = \"\"\n",
        "  current_line_len = 0\n",
        "  for word in words:\n",
        "    word = \" \" + word\n",
        "    if current_line_len + len(word) > max_line:\n",
        "      new_text += '\\n' + word\n",
        "      current_line_len = len(word)\n",
        "    else:\n",
        "      new_text += word\n",
        "      current_line_len += len(word)\n",
        "  return new_text\n",
        "\n",
        "def plot_win_rate_against_human_summary(results_file: str, methods: List[str], evaluators: List[str], metric: str=\"win_rate_with_tie_scoring\"): \n",
        "  #colors = [\"#8ecbd7\", \"#abd4ff\", \"#96c79d\", \"#f3c07d\", \"#ce776b\"]\n",
        "  colors = [\"#ce776b\", \"#f3c07d\", \"#96c79d\", \"#abd4ff\"]\n",
        "  result_dataframe = pd.read_csv(results_file)\n",
        "  number_of_samples = result_dataframe.shape[0]\n",
        "\n",
        "  win_rate_per_method = {}\n",
        "  standard_error_of_win_rate_per_method = {}\n",
        "  for method in methods:\n",
        "    human_summaries_over_evaluators = []\n",
        "    method_results_over_evaluators = []\n",
        "    for evaluator in evaluators:\n",
        "      human_summaries_over_evaluators += result_dataframe[\"human_reference_summaries_comparison_rank_{}\".format(evaluator)].to_list()\n",
        "      method_results_over_evaluators += result_dataframe[method + \"_{}\".format(evaluator)].to_list()\n",
        "    \n",
        "    assert len(human_summaries_over_evaluators) == len(method_results_over_evaluators) == number_of_samples*len(evaluators)\n",
        "    human_summaries_over_evaluators = np.array(human_summaries_over_evaluators)\n",
        "    method_results_over_evaluators = np.array(method_results_over_evaluators)\n",
        "   \n",
        "    if metric == \"win_rate_with_tie_scoring\": \n",
        "      wins = method_results_over_evaluators < human_summaries_over_evaluators\n",
        "      ties =  method_results_over_evaluators == human_summaries_over_evaluators\n",
        "      assert len(wins) == len(ties)\n",
        "\n",
        "      current_method_performance = wins + 0.5*ties\n",
        "    else: \n",
        "      raise NotImplementedError()    \n",
        "    win_rate_per_method[method] = np.mean(current_method_performance)\n",
        "    standard_error_of_win_rate_per_method[method] = sem(current_method_performance)\n",
        "  \n",
        "  method_titles = [add_linebreaks(method_names_for_plotting[method]) for method in methods]\n",
        "  win_rates = [win_rate_per_method[method] * 100 for method in methods]\n",
        "  standard_errors = [standard_error_of_win_rate_per_method[method] * 100 for method in methods]\n",
        "  print(win_rate_per_method)\n",
        "  print(standard_error_of_win_rate_per_method)\n",
        "  print(\"Methods\", method_titles)\n",
        "  print(\"Win rates:\", win_rates)\n",
        "  print(\"Standard error\",standard_errors )\n",
        "  x_axis = range(len(methods))\n",
        "  fig, ax = plt.subplots()\n",
        "  ax.bar(x_axis, win_rates, yerr=standard_errors, color=colors)\n",
        "  ax.axhline(y=50, color='black', linestyle='--')\n",
        "  ax.text(2.1, 45, \"Human Summaries\")\n",
        "  plt.ylabel(\"Win Rate vs. \\n Human Summaries (%)\")\n",
        "  plt.xticks(x_axis, method_titles, rotation=0)\n",
        "  plt.savefig(fig_output_path / f\"win_rate_vs_human_summary_{metric}.pdf\", bbox_inches='tight')\n",
        "  plt.show()"
      ]
    },
    {
      "cell_type": "code",
      "execution_count": null,
      "metadata": {
        "colab": {
          "base_uri": "https://localhost:8080/",
          "height": 411
        },
        "id": "LlAwiUa9Pn0Q",
        "outputId": "2280d274-cba2-473a-89bb-f2b3d6e31463"
      },
      "outputs": [
        {
          "output_type": "stream",
          "name": "stdout",
          "text": [
            "{'feedback_refinements_reranking_comparison_rank': 0.54, 'feedback_refinements_random_comparison_rank': 0.52, 'general_refinements_random_comparison_rank': 0.4175, 'original_summary_comparison_rank': 0.3925}\n",
            "{'feedback_refinements_reranking_comparison_rank': 0.035330457200978174, 'feedback_refinements_random_comparison_rank': 0.035059174671449644, 'general_refinements_random_comparison_rank': 0.034868291307339205, 'original_summary_comparison_rank': 0.03434189246226024}\n",
            "Methods [' Refine w/\\n Feedback +\\n Best of N', ' Refine w/\\n Feedback', ' Refine w/o\\n Feedback', ' Initial\\n Summaries']\n",
            "Win rates: [54.0, 52.0, 41.75, 39.25]\n",
            "Standard error [3.5330457200978174, 3.5059174671449647, 3.4868291307339208, 3.4341892462260244]\n"
          ]
        },
        {
          "output_type": "display_data",
          "data": {
            "image/png": "[encoded data removed]",
            "text/plain": [
              "<Figure size 432x288 with 1 Axes>"
            ]
          },
          "metadata": {
            "needs_background": "light"
          }
        }
      ],
      "source": [
        "params = {'font.size': 12, 'axes.labelsize': 14, 'legend.fontsize': 20, 'xtick.labelsize': 12, 'ytick.labelsize': 14}\n",
        "matplotlib.rcParams.update(params)\n",
        "models_without_human_ref = [\"feedback_refinements_reranking_comparison_rank\", \"feedback_refinements_random_comparison_rank\",\n",
        "          \"general_refinements_random_comparison_rank\", \"original_summary_comparison_rank\"]\n",
        "plot_win_rate_against_human_summary(results_file, models_without_human_ref, evaluators, metric=\"win_rate_with_tie_scoring\")"
      ]
    },
    {
      "cell_type": "markdown",
      "metadata": {
        "id": "D5NMui4F2d1E"
      },
      "source": [
        "## Performance vs original summary ranking"
      ]
    },
    {
      "cell_type": "markdown",
      "metadata": {
        "id": "iGwe4b0LkVxn"
      },
      "source": [
        "Remember for the below experiments that lower ranking is better."
      ]
    },
    {
      "cell_type": "code",
      "execution_count": null,
      "metadata": {
        "id": "26iv6Fo6XODz"
      },
      "outputs": [],
      "source": [
        "def plot_win_rate_against_original_summary_across_original_summary_performance(results_file: str, methods: List[str], evaluators: List[str], performance_metric=\"win_rate_with_tie_scores\"): \n",
        "  colors = sns.color_palette(\"tab10\", n_colors=4)\n",
        "  result_dataframe = pd.read_csv(results_file)\n",
        "\n",
        "  win_rate_per_orig_rating_per_method = {}\n",
        "  standard_error_of_win_rate_per_orig_rating_per_method = {}\n",
        "  for method in methods: \n",
        "    original_summaries_over_evaluators_ranking = []      \n",
        "    method_results_over_evaluators_ranking = []\n",
        "\n",
        "    for evaluator in evaluators:\n",
        "      original_summaries_over_evaluators_ranking  += result_dataframe[\"original_summary_comparison_rank_{}\".format(evaluator)].to_list()\n",
        "      method_results_over_evaluators_ranking += result_dataframe[method + \"_{}\".format(evaluator)].to_list()\n",
        "\n",
        "\n",
        "    assert len(original_summaries_over_evaluators_ranking) == len(method_results_over_evaluators_ranking) == result_dataframe.shape[0]*len(evaluators)\n",
        "\n",
        "    original_summaries_over_evaluators_ranking_rounded = []\n",
        "    method_results_over_evaluators_ranking_rounded = []\n",
        "    for el in original_summaries_over_evaluators_ranking: \n",
        "        original_summaries_over_evaluators_ranking_rounded.append(round(el+ 1e-8))\n",
        "    for el in method_results_over_evaluators_ranking: \n",
        "        method_results_over_evaluators_ranking_rounded.append(round(el+1e-8))\n",
        "    assert len(original_summaries_over_evaluators_ranking_rounded) == len(method_results_over_evaluators_ranking_rounded)\n",
        "    original_summaries_over_evaluators_ranking = np.array(original_summaries_over_evaluators_ranking_rounded)\n",
        "    method_results_over_evaluators_ranking = np.array(method_results_over_evaluators_ranking_rounded)\n",
        "\n",
        "    win_rate_per_rating = []\n",
        "    standard_deviation_win_rate_per_rating = []\n",
        "    for ranking in range(1,6): \n",
        "      current_ranking_indices = np.where(original_summaries_over_evaluators_ranking == ranking)\n",
        "      current_original_summaries_rankings = original_summaries_over_evaluators_ranking[current_ranking_indices]\n",
        "      current_method_ranking = method_results_over_evaluators_ranking[current_ranking_indices]\n",
        "      \n",
        "     \n",
        "      if performance_metric == \"win_rate_with_tie_scores\": \n",
        "        wins = current_original_summaries_rankings > current_method_ranking\n",
        "        ties =  current_original_summaries_rankings == current_method_ranking\n",
        "        current_method_performance = wins + 0.5*ties\n",
        "\n",
        "        assert len(wins) == len(ties)\n",
        "      elif performance_metric == \"ranking\": \n",
        "        current_method_performance = current_method_ranking\n",
        "\n",
        "      win_rate_per_rating.append(np.mean(current_method_performance))\n",
        "      standard_deviation_win_rate_per_rating.append(sem(current_method_performance))\n",
        "\n",
        "    win_rate_per_orig_rating_per_method[method] = np.array(win_rate_per_rating) * 100\n",
        "    standard_error_of_win_rate_per_orig_rating_per_method[method] = np.array(standard_deviation_win_rate_per_rating) * 100\n",
        "  \n",
        "  print(win_rate_per_orig_rating_per_method)\n",
        "  print(standard_error_of_win_rate_per_orig_rating_per_method)\n",
        "  fig, ax = plt.subplots()\n",
        "  for i, method in enumerate(methods): \n",
        "    if i == 0: \n",
        "      color = colors[3]\n",
        "    elif i == 1: \n",
        "      color = colors[1]\n",
        "    elif i == 2: \n",
        "      color = colors[2]\n",
        "    elif i == 3: \n",
        "      color = colors[0]\n",
        "    else: \n",
        "      raise NotImplementedError()\n",
        "\n",
        "    plt.plot(range(1,6), win_rate_per_orig_rating_per_method[method], color=color, label=method_names_for_plotting[method],)\n",
        "    ax.fill_between(range(1,6), \n",
        "                    win_rate_per_orig_rating_per_method[method]-standard_error_of_win_rate_per_orig_rating_per_method[method], \n",
        "                    win_rate_per_orig_rating_per_method[method]+standard_error_of_win_rate_per_orig_rating_per_method[method],\n",
        "                    color=color, \n",
        "                    alpha=0.2)\n",
        "  plt.xlabel(\"Ranking of Initial Summary\")\n",
        "  if performance_metric == \"win_rate\" or performance_metric == \"win_rate_with_tie_scores\": \n",
        "    plt.ylabel(\"Win Rate vs. \\n Initial Summaries (%)\")\n",
        "    # plt.title(\"Win rate vs Initial Summary Ranking\")\n",
        "  elif performance_metric == \"ranking\": \n",
        "    plt.ylabel(\"Ranking\")\n",
        "    # plt.title(\"Ranking vs Initial Summary Ranking\")\n",
        "    ax.invert_yaxis()\n",
        "\n",
        "  else: \n",
        "    raise NotImplementedError()\n",
        "  # plt.legend()\n",
        "  plt.xticks(range(1,6))\n",
        "  plt.xlim(1, 5)\n",
        "  plt.ylim(0, 100)\n",
        "  # plt.legend(loc='upper center', bbox_to_anchor=(0.4, -0.2))\n",
        "  plt.legend(loc='upper left', frameon=False)\n",
        "  plt.savefig(fig_output_path / f\"win_rate_against_original_summary_performance_{performance_metric}.pdf\", bbox_inches='tight')\n",
        "  plt.show()"
      ]
    },
    {
      "cell_type": "code",
      "execution_count": null,
      "metadata": {
        "colab": {
          "base_uri": "https://localhost:8080/",
          "height": 384
        },
        "id": "JA8bnTqs4XsA",
        "outputId": "ebafe837-17c1-44a8-b5f9-9ba30bf01600"
      },
      "outputs": [
        {
          "output_type": "stream",
          "name": "stdout",
          "text": [
            "{'feedback_refinements_reranking_comparison_rank': array([  0.        ,  15.625     ,  51.96078431,  88.        ,\n",
            "       100.        ]), 'feedback_refinements_random_comparison_rank': array([ 0.        ,  7.8125    , 39.21568627, 83.        , 97.4137931 ]), 'general_refinements_random_comparison_rank': array([ 0.        , 31.25      , 40.19607843, 49.        , 77.5862069 ]), 'human_reference_summaries_comparison_rank': array([  0.        ,  25.        ,  48.03921569,  60.        ,\n",
            "       100.        ])}\n",
            "{'feedback_refinements_reranking_comparison_rank': array([0.        , 6.12269542, 6.09737718, 3.92792202, 0.        ]), 'feedback_refinements_random_comparison_rank': array([0.        , 3.95881965, 4.70996555, 3.94088978, 1.46671777]), 'general_refinements_random_comparison_rank': array([0.        , 5.83285328, 4.20541384, 5.4379618 , 3.29356505]), 'human_reference_summaries_comparison_rank': array([0.        , 7.77713771, 6.99590697, 6.85118789, 0.        ])}\n"
          ]
        },
        {
          "output_type": "display_data",
          "data": {
            "image/png": "[encoded data removed]",
            "text/plain": [
              "<Figure size 432x288 with 1 Axes>"
            ]
          },
          "metadata": {
            "needs_background": "light"
          }
        }
      ],
      "source": [
        "params = {'font.size': 14, 'axes.labelsize': 14, 'legend.fontsize': 12, 'xtick.labelsize': 14, 'ytick.labelsize': 14}\n",
        "matplotlib.rcParams.update(params)\n",
        "plot_win_rate_against_original_summary_across_original_summary_performance(results_file, methods_without_original, evaluators, performance_metric=\"win_rate_with_tie_scores\")\n"
      ]
    },
    {
      "cell_type": "code",
      "execution_count": null,
      "metadata": {
        "id": "qi69rWuXZXTz"
      },
      "outputs": [],
      "source": [
        "#plot_win_rate_against_original_summary_across_original_summary_performance(results_file, methods_without_original, evaluators, performance_metric=\"win_rate\")\n"
      ]
    },
    {
      "cell_type": "code",
      "execution_count": null,
      "metadata": {
        "id": "8bsKZ1AhhFaq"
      },
      "outputs": [],
      "source": [
        "#plot_win_rate_against_original_summary_across_original_summary_performance(results_file, methods_without_original, evaluators, performance_metric=\"ranking\")"
      ]
    },
    {
      "cell_type": "markdown",
      "metadata": {
        "id": "l5bj5yg2kHp8"
      },
      "source": [
        "# Feedback is incorporated Experiments"
      ]
    },
    {
      "cell_type": "code",
      "execution_count": null,
      "metadata": {
        "id": "qn7kj3rskAeQ"
      },
      "outputs": [],
      "source": [
        "methods = [\"feedback_refinements_reranking\", \"feedback_refinements_random\", \"general_refinements_random\"]\n",
        "metrics = [\"is_minimum_feedback_incorporated\", \"is_more_than_one_feedback_incorporated\", \"is_all_feedback_incorporated\"]\n",
        "methods_title = {\"feedback_refinements_reranking\": \"Refine w/ Feedback + Best of N\", \n",
        "                 \"feedback_refinements_random\": \"Refine w/ Feedback\", \n",
        "                 \"general_refinements_random\": \"Refine w/o Feedback\"}\n",
        "metrics_title = {\"is_minimum_feedback_incorporated\": \">=1\", \n",
        "                 \"is_more_than_one_feedback_incorporated\": \">1\", \n",
        "                 \"is_all_feedback_incorporated\": \"All\"}\n",
        "feedback_incorporated_results_file = \"/content/drive/MyDrive/learning_from_natural_langauge_feedback/workshop_results/feedback_incorporated/human_eval_feedback_incorporated_summaries_with_aggregated_results.csv\"\n"
      ]
    },
    {
      "cell_type": "code",
      "execution_count": null,
      "metadata": {
        "id": "FFd7H3e-sRtP"
      },
      "outputs": [],
      "source": [
        "def add_linebreaks(text, max_line=20):\n",
        "  words = text.split()\n",
        "  new_text = \"\"\n",
        "  current_line_len = 0\n",
        "  for word in words:\n",
        "    word = \" \" + word\n",
        "    if current_line_len + len(word) > max_line:\n",
        "      new_text += '\\n' + word\n",
        "      current_line_len = len(word)\n",
        "    else:\n",
        "      new_text += word\n",
        "      current_line_len += len(word)\n",
        "  return new_text\n",
        "\n",
        "def plot_feedback_incorporation(results_file: str, methods: List[str], metrics: List[str]): \n",
        "  colors = [\"#ce776b\", \"#f3c07d\", \"#96c79d\"]\n",
        "  assert len(methods) == 3\n",
        "  result_dataframe = pd.read_csv(results_file)\n",
        "  mean_incorporation_per_metric = {}\n",
        "  standard_error_of_incorporation_per_metric = {}\n",
        "  for metric in metrics: \n",
        "    mean_incorporation_per_metric[metric] = {}\n",
        "    standard_error_of_incorporation_per_metric[metric] = {}\n",
        "\n",
        "  for metric in metrics:\n",
        "    for method in methods: \n",
        "      metric_result = result_dataframe[\"{}_{}_{}\".format(method, metric, \"Jon\")]\n",
        "      mean_incorporation_per_metric[metric][method] = np.mean(metric_result)\n",
        "      standard_error_of_incorporation_per_metric[metric][method] = sem(metric_result)\n",
        "\n",
        "  \n",
        "  x_axis = np.arange(3)\n",
        "  width = 0.25\n",
        "\n",
        " \n",
        "  fig, ax = plt.subplots()\n",
        "  for i in range(3): \n",
        "    mean_results_across_metrics = []\n",
        "    standard_error_results_across_metrics = []\n",
        "    for metric in metrics:\n",
        "      mean_results_across_metrics.append(mean_incorporation_per_metric[metric][methods[i]] * 100)\n",
        "      standard_error_results_across_metrics.append(standard_error_of_incorporation_per_metric[metric][methods[i]] * 100)\n",
        "    print(mean_incorporation_per_metric)\n",
        "    print(standard_error_of_incorporation_per_metric)\n",
        "    if i == 0:                                                                \n",
        "      ax.bar(x_axis - width, mean_results_across_metrics, width, label=methods_title[methods[i]], yerr=standard_error_results_across_metrics, color = colors[i])\n",
        "    elif i == 1: \n",
        "      ax.bar(x_axis , mean_results_across_metrics, width, label=methods_title[methods[i]],yerr=standard_error_results_across_metrics, color = colors[i])\n",
        "    elif i == 2: \n",
        "      ax.bar(x_axis+ width , mean_results_across_metrics, width, label=methods_title[methods[i]],yerr=standard_error_results_across_metrics, color = colors[i])\n",
        "    else: \n",
        "      raise NotImplementedError()\n",
        "\n",
        "  metrics_titles = [add_linebreaks(metrics_title[metric]) for metric in metrics]\n",
        "  plt.xticks(x_axis,metrics_titles , rotation=0)\n",
        "  plt.xlabel(\"No. of feedback points incorporated\")\n",
        "  # plt.title(\"Is Feedback incorporated?\")\n",
        "  plt.ylabel(\"% of summaries \\n incorporating feedback\")\n",
        "  plt.legend()\n",
        "  plt.savefig(fig_output_path / f\"feedback_incorporation.pdf\", bbox_inches='tight')"
      ]
    },
    {
      "cell_type": "markdown",
      "metadata": {
        "id": "vEFcl4nPfqYS"
      },
      "source": [
        ""
      ]
    },
    {
      "cell_type": "code",
      "execution_count": null,
      "metadata": {
        "colab": {
          "base_uri": "https://localhost:8080/",
          "height": 419
        },
        "id": "g2q4d2FtsR0x",
        "outputId": "84476641-50d2-4a54-9858-906c5bf20f97"
      },
      "outputs": [
        {
          "output_type": "stream",
          "name": "stdout",
          "text": [
            "{'is_minimum_feedback_incorporated': {'feedback_refinements_reranking': 0.72, 'feedback_refinements_random': 0.53, 'general_refinements_random': 0.15}, 'is_more_than_one_feedback_incorporated': {'feedback_refinements_reranking': 0.42, 'feedback_refinements_random': 0.23, 'general_refinements_random': 0.03}, 'is_all_feedback_incorporated': {'feedback_refinements_reranking': 0.25, 'feedback_refinements_random': 0.12, 'general_refinements_random': 0.0}}\n",
            "{'is_minimum_feedback_incorporated': {'feedback_refinements_reranking': 0.045126085985421296, 'feedback_refinements_random': 0.05016135580465918, 'general_refinements_random': 0.03588702812826367}, 'is_more_than_one_feedback_incorporated': {'feedback_refinements_reranking': 0.04960449637488583, 'feedback_refinements_random': 0.04229525846816507, 'general_refinements_random': 0.01714466079977653}, 'is_all_feedback_incorporated': {'feedback_refinements_reranking': 0.04351941398892446, 'feedback_refinements_random': 0.032659863237109045, 'general_refinements_random': 0.0}}\n",
            "{'is_minimum_feedback_incorporated': {'feedback_refinements_reranking': 0.72, 'feedback_refinements_random': 0.53, 'general_refinements_random': 0.15}, 'is_more_than_one_feedback_incorporated': {'feedback_refinements_reranking': 0.42, 'feedback_refinements_random': 0.23, 'general_refinements_random': 0.03}, 'is_all_feedback_incorporated': {'feedback_refinements_reranking': 0.25, 'feedback_refinements_random': 0.12, 'general_refinements_random': 0.0}}\n",
            "{'is_minimum_feedback_incorporated': {'feedback_refinements_reranking': 0.045126085985421296, 'feedback_refinements_random': 0.05016135580465918, 'general_refinements_random': 0.03588702812826367}, 'is_more_than_one_feedback_incorporated': {'feedback_refinements_reranking': 0.04960449637488583, 'feedback_refinements_random': 0.04229525846816507, 'general_refinements_random': 0.01714466079977653}, 'is_all_feedback_incorporated': {'feedback_refinements_reranking': 0.04351941398892446, 'feedback_refinements_random': 0.032659863237109045, 'general_refinements_random': 0.0}}\n",
            "{'is_minimum_feedback_incorporated': {'feedback_refinements_reranking': 0.72, 'feedback_refinements_random': 0.53, 'general_refinements_random': 0.15}, 'is_more_than_one_feedback_incorporated': {'feedback_refinements_reranking': 0.42, 'feedback_refinements_random': 0.23, 'general_refinements_random': 0.03}, 'is_all_feedback_incorporated': {'feedback_refinements_reranking': 0.25, 'feedback_refinements_random': 0.12, 'general_refinements_random': 0.0}}\n",
            "{'is_minimum_feedback_incorporated': {'feedback_refinements_reranking': 0.045126085985421296, 'feedback_refinements_random': 0.05016135580465918, 'general_refinements_random': 0.03588702812826367}, 'is_more_than_one_feedback_incorporated': {'feedback_refinements_reranking': 0.04960449637488583, 'feedback_refinements_random': 0.04229525846816507, 'general_refinements_random': 0.01714466079977653}, 'is_all_feedback_incorporated': {'feedback_refinements_reranking': 0.04351941398892446, 'feedback_refinements_random': 0.032659863237109045, 'general_refinements_random': 0.0}}\n"
          ]
        },
        {
          "output_type": "display_data",
          "data": {
            "image/png": "[encoded data removed]",
            "text/plain": [
              "<Figure size 432x288 with 1 Axes>"
            ]
          },
          "metadata": {
            "needs_background": "light"
          }
        }
      ],
      "source": [
        "params = {'font.size': 14, 'axes.labelsize': 14, 'legend.fontsize': 12, 'xtick.labelsize': 14, 'ytick.labelsize': 14}\n",
        "matplotlib.rcParams.update(params)\n",
        "plot_feedback_incorporation(feedback_incorporated_results_file, methods=methods, metrics=metrics)"
      ]
    },
    {
      "cell_type": "code",
      "execution_count": null,
      "metadata": {
        "id": "tYcEEla_sR7o"
      },
      "outputs": [],
      "source": [
        "def plot_feedback_incorporation_per_original_summary_rating(is_feedback_incorporated_results_file: str, \n",
        "                                                            summary_ranking_results_file: str, \n",
        "                                                            methods: List[str], metrics: List[str], evaluators: List[str]): \n",
        "  colors = sns.color_palette(\"tab10\", n_colors=4)\n",
        "  feedback_incorporated_results = pd.read_csv(is_feedback_incorporated_results_file)\n",
        "  summary_comparison_results = pd.read_csv(summary_ranking_results_file)\n",
        "\n",
        "  evaluator_ranking_ids = {}\n",
        "  for i, evaluator in enumerate(evaluators):\n",
        "    original_summarie_rankings = summary_comparison_results[\"original_summary_comparison_rank_{}\".format(evaluator)].to_numpy()\n",
        "\n",
        "    all_ranking_ids = []\n",
        "    for ranking in range(1,6): \n",
        "      current_ranking_indices = np.where(original_summarie_rankings == ranking)\n",
        "      all_ranking_ids.append(summary_comparison_results.iloc[current_ranking_indices][\"id\"].tolist())\n",
        "    evaluator_ranking_ids[evaluator] = all_ranking_ids\n",
        "  \n",
        "  for metric in metrics: \n",
        "    fig, ax = plt.subplots()\n",
        "    for i, method in enumerate(methods): \n",
        "      x_axis = range(1,6)\n",
        "      results_mean = []\n",
        "      results_standard_error = []\n",
        "      for ranking in range(5):\n",
        "        is_incorporated_across_evaluators = []\n",
        "        for evaluator in evaluators:\n",
        "          selected_results = feedback_incorporated_results[feedback_incorporated_results[\"id\"].isin(evaluator_ranking_ids[evaluator][ranking])]\n",
        "          is_incorporated = selected_results[\"{}_{}_{}\".format(method, metric, \"Jon\")].tolist()\n",
        "          is_incorporated_across_evaluators += is_incorporated\n",
        "        results_mean.append(np.mean(is_incorporated_across_evaluators))\n",
        "        results_standard_error.append(sem(is_incorporated_across_evaluators))\n",
        "      results_mean = np.array(results_mean)\n",
        "      results_standard_error = np.array(results_standard_error)\n",
        "\n",
        "      if i == 0: \n",
        "        color = colors[3]\n",
        "      elif i == 1: \n",
        "        color = colors[1]\n",
        "      elif i == 2: \n",
        "        color = colors[2]\n",
        "      elif i == 3: \n",
        "        color = colors[0]\n",
        "      else: \n",
        "        raise NotImplementedError()\n",
        "      ax.plot(x_axis, results_mean, color=color, label=methods_title[method])\n",
        "      ax.fill_between(x_axis, \n",
        "                    results_mean-results_standard_error, \n",
        "                    results_mean+results_standard_error,\n",
        "                    color=color, \n",
        "                    alpha=0.2)\n",
        "      plt.xlabel(\"Ranking of initial summaries\")\n",
        "      plt.ylabel(metrics_title[metric])\n",
        "      plt.legend(loc='upper center', bbox_to_anchor=(1.5, 0.8))\n",
        "    plt.savefig(fig_output_path / f\"feedback_incorporation_per_original_summary_rating_{metric}.pdf\", bbox_inches='tight')\n",
        "        "
      ]
    },
    {
      "cell_type": "code",
      "execution_count": null,
      "metadata": {
        "id": "kkUGIA5zsSDq"
      },
      "outputs": [],
      "source": [
        "#plot_feedback_incorporation_per_original_summary_rating(feedback_incorporated_results_file, \n",
        "#                                                        results_file, \n",
        "#                                                        methods, metrics, evaluators)"
      ]
    },
    {
      "cell_type": "markdown",
      "metadata": {
        "id": "IFShNnN58Q66"
      },
      "source": [
        "# Finetuning Human Comparisons"
      ]
    },
    {
      "cell_type": "code",
      "execution_count": null,
      "metadata": {
        "id": "7dGnORzC8RNe"
      },
      "outputs": [],
      "source": [
        "results_file = \"/content/drive/MyDrive/learning_from_natural_langauge_feedback/workshop_results/finetuning/human_eval_finetuning_summaries_with_aggregated_results.csv\"\n",
        "methods_without_human = [\"davinci_summary_comparison_rank\", \"finetuned_feedback_refinement_summary_comparison_rank\",\n",
        "           \"finetuned_original_summary_comparison_rank\", \"davinci_instruct_comparison_rank\"\n",
        "           ]\n",
        "methods_without_human =[\"finetuned_feedback_refinement_summary_comparison_rank\", \"finetuned_original_summary_comparison_rank\", \"davinci_instruct_comparison_rank\", \"davinci_summary_comparison_rank\"]\n",
        "methods_without_instruct =[\"finetuned_feedback_refinement_summary_comparison_rank\", \"finetuned_original_summary_comparison_rank\", \"davinci_summary_comparison_rank\", \"human_reference_summaries_comparison_rank\"]\n",
        "\n",
        "all_methods =[\"finetuned_feedback_refinement_summary_comparison_rank\", \"finetuned_original_summary_comparison_rank\", \"davinci_instruct_comparison_rank\", \"davinci_summary_comparison_rank\", \"human_reference_summaries_comparison_rank\"]\n",
        "           \n",
        "method_names_for_plotting = {\"davinci_summary_comparison_rank\": \"GPT-3\", \n",
        "                             \"davinci_instruct_comparison_rank\": \"InstructGPT\",\n",
        "                             \"finetuned_feedback_refinement_summary_comparison_rank\": \"GPT-3 Finetuned on Refine w/ Feedback + Best of N\", \n",
        "                             \"finetuned_original_summary_comparison_rank\": \"GPT-3 Finetuned on Initial Summaries\", \n",
        "                             \"human_reference_summaries_comparison_rank\": \"Human Summaries\"\n",
        "                             }\n",
        "evaluators = [\"Jun\"]"
      ]
    },
    {
      "cell_type": "code",
      "execution_count": null,
      "metadata": {
        "id": "HiwxcJ_C8RE4"
      },
      "outputs": [],
      "source": [
        "def calcualte_average_ranking_per_finetuning_summary(results_file: str, methods: List[str], evaluators: List[str]): \n",
        "  result_dataframe = pd.read_csv(results_file)\n",
        "  mean_rank_per_method = {}\n",
        "  standard_error_of_rank_per_method = {}\n",
        "  for method in methods: \n",
        "    results = []\n",
        "    for evaluator in evaluators: \n",
        "      results += result_dataframe[method + \"_{}\".format(evaluator)].to_list()\n",
        "    results = np.array(results)\n",
        "    mean_rank_per_method[method] = np.mean(results)\n",
        "    standard_error_of_rank_per_method[method] = sem(results)\n",
        "\n",
        "  for method in methods: \n",
        "    print(\"Average Ranking:\")\n",
        "    print(\"{}: {} +/- {}\".format(method_names_for_plotting[method],mean_rank_per_method[method], standard_error_of_rank_per_method[method]))"
      ]
    },
    {
      "cell_type": "code",
      "execution_count": null,
      "metadata": {
        "colab": {
          "base_uri": "https://localhost:8080/"
        },
        "id": "OxVkZ01kmSB0",
        "outputId": "e24d0ed0-fda1-4ee3-e6cf-86c9d82fc8ab"
      },
      "outputs": [
        {
          "output_type": "stream",
          "name": "stdout",
          "text": [
            "Average Ranking:\n",
            "GPT-3 Finetuned on Refine w/ Feedback + Best of N: 2.55 +/- 0.13880805728658824\n",
            "Average Ranking:\n",
            "GPT-3 Finetuned on Initial Summaries: 2.78 +/- 0.12758835322547227\n",
            "Average Ranking:\n",
            "InstructGPT: 3.15 +/- 0.13437096247164249\n",
            "Average Ranking:\n",
            "GPT-3: 4.03 +/- 0.11586739198433926\n",
            "Average Ranking:\n",
            "Human Summaries: 2.49 +/- 0.13370780746754388\n"
          ]
        }
      ],
      "source": [
        "calcualte_average_ranking_per_finetuning_summary(results_file, all_methods, evaluators)"
      ]
    },
    {
      "cell_type": "markdown",
      "metadata": {
        "id": "PxoUBwUwAlGD"
      },
      "source": [
        "### Direct comparison Our method vs finetuning on original"
      ]
    },
    {
      "cell_type": "code",
      "execution_count": null,
      "metadata": {
        "colab": {
          "base_uri": "https://localhost:8080/"
        },
        "id": "54Ot1SMOAj0W",
        "outputId": "88c892f9-eb9f-401c-bd97-8aec416a952b"
      },
      "outputs": [
        {
          "output_type": "stream",
          "name": "stdout",
          "text": [
            "Win rate 56.99999999999999 +/- 4.97569851956243\n"
          ]
        }
      ],
      "source": [
        "res = pd.read_csv(results_file)\n",
        "feedback_finetuning = res[\"finetuned_feedback_refinement_summary_comparison_rank_Jun\"]\n",
        "original_finetuning = res[\"finetuned_original_summary_comparison_rank_Jun\"]\n",
        "#human_ref = res[\"human_reference_summaries_comparison_rank_Jun\"]\n",
        "wins = feedback_finetuning < original_finetuning\n",
        "ties = feedback_finetuning == original_finetuning\n",
        "performance = wins + 0.5*ties\n",
        "win_rate = np.mean(performance)\n",
        "standard_error = sem(performance)\n",
        "print(\"Win rate {} +/- {}\".format(100*win_rate, 100*standard_error))\n",
        "\n",
        "\n",
        "#wins = feedback_finetuning < human_ref\n",
        "#ties = feedback_finetuning == human_ref\n",
        "#print(\"win rate feed vs ref {}\".format(np.mean(wins + 0.5*ties)))\n",
        "\n",
        "#wins = original_finetuning < human_ref\n",
        "#ties = original_finetuning == human_ref\n",
        "#print(\"win rate orig vs ref {}\".format(np.mean(wins + 0.5*ties)))"
      ]
    },
    {
      "cell_type": "code",
      "execution_count": null,
      "metadata": {
        "id": "YnFVWTrM8hgI"
      },
      "outputs": [],
      "source": [
        "def add_linebreaks(text, max_line=12):\n",
        "  words = text.split()\n",
        "  new_text = \"\"\n",
        "  current_line_len = 0\n",
        "  for word in words:\n",
        "    word = \" \" + word\n",
        "    if current_line_len + len(word) > max_line:\n",
        "      new_text += '\\n' + word\n",
        "      current_line_len = len(word)\n",
        "    else:\n",
        "      new_text += word\n",
        "      current_line_len += len(word)\n",
        "  return new_text\n",
        "\n",
        "def plot_finetuning_win_rate_against_human_summary(results_file: str, methods: List[str], evaluators: List[str], metric: str=\"win_rate_with_tie_scoring\"): \n",
        "  #colors = [\"#8ecbd7\", \"#abd4ff\", \"#96c79d\", \"#f3c07d\", \"#ce776b\"]\n",
        "  colors = [\"#ce776b\", \"#f3c07d\", \"#96c79d\", \"#abd4ff\"]\n",
        "  result_dataframe = pd.read_csv(results_file)\n",
        "  number_of_samples = result_dataframe.shape[0]\n",
        "\n",
        "  win_rate_per_method = {}\n",
        "  standard_error_of_win_rate_per_method = {}\n",
        "  for method in methods:\n",
        "    compraison_summaries_over_evaluators = []\n",
        "    method_results_over_evaluators = []\n",
        "    for evaluator in evaluators:\n",
        "      compraison_summaries_over_evaluators += result_dataframe[\"human_reference_summaries_comparison_rank_{}\".format(evaluator)].to_list()\n",
        "      method_results_over_evaluators += result_dataframe[method + \"_{}\".format(evaluator)].to_list()\n",
        "    \n",
        "    assert len(compraison_summaries_over_evaluators) == len(method_results_over_evaluators) == number_of_samples*len(evaluators)\n",
        "    compraison_summaries_over_evaluators = np.array(compraison_summaries_over_evaluators)\n",
        "    method_results_over_evaluators = np.array(method_results_over_evaluators)\n",
        "   \n",
        "    if metric == \"win_rate_with_tie_scoring\": \n",
        "      wins = method_results_over_evaluators < compraison_summaries_over_evaluators\n",
        "      ties =  method_results_over_evaluators == compraison_summaries_over_evaluators\n",
        "      assert len(wins) == len(ties)\n",
        "      current_method_performance = wins + 0.5*ties\n",
        "    else: \n",
        "      raise NotImplementedError()    \n",
        "    win_rate_per_method[method] = np.mean(current_method_performance)\n",
        "    standard_error_of_win_rate_per_method[method] = sem(current_method_performance)\n",
        "  \n",
        "  print(win_rate_per_method)\n",
        "  print(standard_error_of_win_rate_per_method)\n",
        "  method_titles = [add_linebreaks(method_names_for_plotting[method]) for method in methods]\n",
        "  win_rates = [win_rate_per_method[method] * 100 for method in methods]\n",
        "  standard_errors = [standard_error_of_win_rate_per_method[method] * 100 for method in methods]\n",
        "  x_axis = range(len(methods))\n",
        "  fig, ax = plt.subplots()\n",
        "  ax.bar(x_axis, win_rates, yerr=standard_errors, color=colors)\n",
        "  ax.axhline(y=50, color='black', linestyle='--')\n",
        "  ax.text(2.1, 45, \"Human Summaries\")\n",
        "  plt.ylabel(\"Win Rate vs. \\n Human Summaries (%)\")\n",
        "  plt.xticks(x_axis, method_titles, rotation=0)\n",
        "  plt.savefig(fig_output_path / f\"finetuning_win_rate_vs_human_summary_{metric}.pdf\", bbox_inches='tight')\n",
        "  plt.show()"
      ]
    },
    {
      "cell_type": "code",
      "execution_count": null,
      "metadata": {
        "id": "ysKT3HsJnn2Y"
      },
      "outputs": [],
      "source": [
        "def plot_finetuning_win_rate_against_instruct_summary(results_file: str, methods: List[str], evaluators: List[str], metric: str=\"win_rate_with_tie_scoring\"): \n",
        "  #colors = [\"#8ecbd7\", \"#abd4ff\", \"#96c79d\", \"#f3c07d\", \"#ce776b\"]\n",
        "  colors = [\"#ce776b\", \"#f3c07d\", \"#96c79d\", \"#abd4ff\"]\n",
        "  result_dataframe = pd.read_csv(results_file)\n",
        "  number_of_samples = result_dataframe.shape[0]\n",
        "\n",
        "  win_rate_per_method = {}\n",
        "  standard_error_of_win_rate_per_method = {}\n",
        "  for method in methods:\n",
        "    compraison_summaries_over_evaluators = []\n",
        "    method_results_over_evaluators = []\n",
        "    for evaluator in evaluators:\n",
        "      compraison_summaries_over_evaluators += result_dataframe[\"davinci_instruct_comparison_rank_{}\".format(evaluator)].to_list()\n",
        "      method_results_over_evaluators += result_dataframe[method + \"_{}\".format(evaluator)].to_list()\n",
        "    \n",
        "    assert len(compraison_summaries_over_evaluators) == len(method_results_over_evaluators) == number_of_samples*len(evaluators)\n",
        "    compraison_summaries_over_evaluators = np.array(compraison_summaries_over_evaluators)\n",
        "    method_results_over_evaluators = np.array(method_results_over_evaluators)\n",
        "   \n",
        "    if metric == \"win_rate_with_tie_scoring\": \n",
        "      wins = method_results_over_evaluators < compraison_summaries_over_evaluators\n",
        "      ties =  method_results_over_evaluators == compraison_summaries_over_evaluators\n",
        "      assert len(wins) == len(ties)\n",
        "\n",
        "      current_method_performance = wins + 0.5*ties\n",
        "    else: \n",
        "      raise NotImplementedError()    \n",
        "    win_rate_per_method[method] = np.mean(current_method_performance)\n",
        "    standard_error_of_win_rate_per_method[method] = sem(current_method_performance)\n",
        "  \n",
        "  print(win_rate_per_method)\n",
        "  print(standard_error_of_win_rate_per_method)\n",
        "  method_titles = [add_linebreaks(method_names_for_plotting[method]) for method in methods]\n",
        "  win_rates = [win_rate_per_method[method] * 100 for method in methods]\n",
        "  standard_errors = [standard_error_of_win_rate_per_method[method] * 100 for method in methods]\n",
        "  x_axis = range(len(methods))\n",
        "  fig, ax = plt.subplots()\n",
        "  ax.bar(x_axis, win_rates, yerr=standard_errors, color=colors)\n",
        "  ax.axhline(y=50, color='black', linestyle='--')\n",
        "  ax.text(1.7, 45, \"InstructGPT Summaries\")\n",
        "  plt.ylabel(\"Win Rate vs. \\n Initial Summaries (%)\")\n",
        "  plt.xticks(x_axis, method_titles, rotation=0)\n",
        "  plt.savefig(fig_output_path / f\"finetuning_win_rate_vs_original_summary_{metric}.pdf\", bbox_inches='tight')\n",
        "  plt.show()"
      ]
    },
    {
      "cell_type": "code",
      "execution_count": null,
      "metadata": {
        "id": "e6yaWbe8oYxp"
      },
      "outputs": [],
      "source": [
        "def plot_win_rate_against_human_summary_across_human_summary_performance(results_file: str, methods: List[str], evaluators: List[str], performance_metric=\"win_rate_with_tie_scores\"): \n",
        "  colors = sns.color_palette(\"tab10\", n_colors=4)\n",
        "  result_dataframe = pd.read_csv(results_file)\n",
        "\n",
        "  win_rate_per_orig_rating_per_method = {}\n",
        "  standard_error_of_win_rate_per_orig_rating_per_method = {}\n",
        "  for method in methods: \n",
        "    human_summaries_over_evaluators_ranking = []      \n",
        "    method_results_over_evaluators_ranking = []\n",
        "\n",
        "    for evaluator in evaluators:\n",
        "      human_summaries_over_evaluators_ranking  += result_dataframe[\"human_reference_summaries_comparison_rank_{}\".format(evaluator)].to_list()\n",
        "      method_results_over_evaluators_ranking += result_dataframe[method + \"_{}\".format(evaluator)].to_list()\n",
        "\n",
        "\n",
        "    assert len(human_summaries_over_evaluators_ranking) == len(method_results_over_evaluators_ranking) == result_dataframe.shape[0]*len(evaluators)\n",
        "    human_summaries_over_evaluators_ranking = np.array(human_summaries_over_evaluators_ranking)\n",
        "    method_results_over_evaluators_ranking = np.array(method_results_over_evaluators_ranking)\n",
        "\n",
        "    win_rate_per_rating = []\n",
        "    standard_deviation_win_rate_per_rating = []\n",
        "    for ranking in range(1,6): \n",
        "      current_ranking_indices = np.where(human_summaries_over_evaluators_ranking == ranking)\n",
        "      current_human_summaries_rankings = human_summaries_over_evaluators_ranking[current_ranking_indices]\n",
        "      current_method_ranking = method_results_over_evaluators_ranking[current_ranking_indices]\n",
        "      \n",
        "     \n",
        "      if performance_metric == \"win_rate_with_tie_scores\": \n",
        "        wins = current_human_summaries_rankings > current_method_ranking\n",
        "        ties =  current_human_summaries_rankings == current_method_ranking\n",
        "        current_method_performance = wins + 0.5*ties\n",
        "\n",
        "        assert len(wins) == len(ties)\n",
        "      elif performance_metric == \"ranking\": \n",
        "        current_method_performance = current_method_ranking\n",
        "\n",
        "      win_rate_per_rating.append(np.mean(current_method_performance))\n",
        "      standard_deviation_win_rate_per_rating.append(sem(current_method_performance))\n",
        "\n",
        "    win_rate_per_orig_rating_per_method[method] = np.array(win_rate_per_rating) * 100\n",
        "    standard_error_of_win_rate_per_orig_rating_per_method[method] = np.array(standard_deviation_win_rate_per_rating) * 100\n",
        "  \n",
        "  print(win_rate_per_orig_rating_per_method)\n",
        "  fig, ax = plt.subplots()\n",
        "  for i, method in enumerate(methods): \n",
        "    if i == 0: \n",
        "      color = colors[3]\n",
        "    elif i == 1: \n",
        "      color = colors[1]\n",
        "    elif i == 2: \n",
        "      color = colors[2]\n",
        "    elif i == 3: \n",
        "      color = colors[0]\n",
        "    else: \n",
        "      raise NotImplementedError()\n",
        "\n",
        "    method_name_for_plotting = method_names_for_plotting[method]\n",
        "    if \"GPT-3 Finetuned\" in method_name_for_plotting:\n",
        "      method_name_for_plotting = \"on\\n\".join(method_name_for_plotting.split(\"on \"))\n",
        "    plt.plot(range(1,6), win_rate_per_orig_rating_per_method[method], color=color, label=method_name_for_plotting,)\n",
        "    ax.fill_between(range(1,6), \n",
        "                    win_rate_per_orig_rating_per_method[method]-standard_error_of_win_rate_per_orig_rating_per_method[method], \n",
        "                    win_rate_per_orig_rating_per_method[method]+standard_error_of_win_rate_per_orig_rating_per_method[method],\n",
        "                    color=color, \n",
        "                    alpha=0.2)\n",
        "  plt.xlabel(\"Ranking of Human Summary\")\n",
        "  if performance_metric == \"win_rate\" or performance_metric == \"win_rate_with_tie_scores\": \n",
        "    plt.ylabel(\"Win Rate vs. \\n Human Summary (%)\")\n",
        "    # plt.title(\"Win rate vs Initial Summary Ranking\")\n",
        "  elif performance_metric == \"ranking\": \n",
        "    plt.ylabel(\"Ranking\")\n",
        "    # plt.title(\"Ranking vs Initial Summary Ranking\")\n",
        "    ax.invert_yaxis()\n",
        "\n",
        "  else: \n",
        "    raise NotImplementedError()\n",
        "  # plt.legend()\n",
        "  plt.xticks(range(1,6))\n",
        "  plt.xlim(1, 5)\n",
        "  plt.ylim(0, 100)\n",
        "  # plt.legend(loc='upper center', bbox_to_anchor=(0.4, -0.2))\n",
        "  plt.legend(loc='upper left', frameon=False)\n",
        "  plt.savefig(fig_output_path / f\"finetuning_win_rate_against_human_summary_performance_{performance_metric}.pdf\", bbox_inches='tight')\n",
        "  plt.show()"
      ]
    },
    {
      "cell_type": "code",
      "execution_count": null,
      "metadata": {
        "id": "x8SxM3Ccoq_B"
      },
      "outputs": [],
      "source": [
        "def plot_win_rate_against_instruct_summary_across_instruct_summary_performance(results_file: str, methods: List[str], evaluators: List[str], performance_metric=\"win_rate_with_tie_scores\"): \n",
        "  colors = sns.color_palette(\"tab10\", n_colors=4)\n",
        "  result_dataframe = pd.read_csv(results_file)\n",
        "\n",
        "  win_rate_per_orig_rating_per_method = {}\n",
        "  standard_error_of_win_rate_per_orig_rating_per_method = {}\n",
        "  for method in methods: \n",
        "    original_summaries_over_evaluators_ranking = []      \n",
        "    method_results_over_evaluators_ranking = []\n",
        "\n",
        "    for evaluator in evaluators:\n",
        "      original_summaries_over_evaluators_ranking  += result_dataframe[\"davinci_instruct_comparison_rank_{}\".format(evaluator)].to_list()\n",
        "      method_results_over_evaluators_ranking += result_dataframe[method + \"_{}\".format(evaluator)].to_list()\n",
        "\n",
        "\n",
        "    assert len(original_summaries_over_evaluators_ranking) == len(method_results_over_evaluators_ranking) == result_dataframe.shape[0]*len(evaluators)\n",
        "    original_summaries_over_evaluators_ranking = np.array(original_summaries_over_evaluators_ranking)\n",
        "    method_results_over_evaluators_ranking = np.array(method_results_over_evaluators_ranking)\n",
        "\n",
        "    win_rate_per_rating = []\n",
        "    standard_deviation_win_rate_per_rating = []\n",
        "    for ranking in range(1,6): \n",
        "      current_ranking_indices = np.where(original_summaries_over_evaluators_ranking == ranking)\n",
        "      current_original_summaries_rankings = original_summaries_over_evaluators_ranking[current_ranking_indices]\n",
        "      current_method_ranking = method_results_over_evaluators_ranking[current_ranking_indices]\n",
        "      \n",
        "     \n",
        "      if performance_metric == \"win_rate_with_tie_scores\": \n",
        "        wins = current_original_summaries_rankings > current_method_ranking\n",
        "        ties =  current_original_summaries_rankings == current_method_ranking\n",
        "        current_method_performance = wins + 0.5*ties\n",
        "\n",
        "        assert len(wins) == len(ties)\n",
        "      elif performance_metric == \"ranking\": \n",
        "        current_method_performance = current_method_ranking\n",
        "\n",
        "      win_rate_per_rating.append(np.mean(current_method_performance))\n",
        "      standard_deviation_win_rate_per_rating.append(sem(current_method_performance))\n",
        "\n",
        "    win_rate_per_orig_rating_per_method[method] = np.array(win_rate_per_rating) * 100\n",
        "    standard_error_of_win_rate_per_orig_rating_per_method[method] = np.array(standard_deviation_win_rate_per_rating) * 100\n",
        "  \n",
        "  print(win_rate_per_orig_rating_per_method)\n",
        "  fig, ax = plt.subplots()\n",
        "  for i, method in enumerate(methods): \n",
        "    if i == 0: \n",
        "      color = colors[3]\n",
        "    elif i == 1: \n",
        "      color = colors[1]\n",
        "    elif i == 2: \n",
        "      color = colors[2]\n",
        "    elif i == 3: \n",
        "      color = colors[0]\n",
        "    else: \n",
        "      raise NotImplementedError()\n",
        "\n",
        "    method_name_for_plotting = method_names_for_plotting[method]\n",
        "    if \"GPT-3 Finetuned\" in method_name_for_plotting:\n",
        "      method_name_for_plotting = \"on\\n\".join(method_name_for_plotting.split(\"on \"))\n",
        "    plt.plot(range(1,6), win_rate_per_orig_rating_per_method[method], color=color, label=method_name_for_plotting,)\n",
        "    ax.fill_between(range(1,6), \n",
        "                    win_rate_per_orig_rating_per_method[method]-standard_error_of_win_rate_per_orig_rating_per_method[method], \n",
        "                    win_rate_per_orig_rating_per_method[method]+standard_error_of_win_rate_per_orig_rating_per_method[method],\n",
        "                    color=color, \n",
        "                    alpha=0.2)\n",
        "  plt.xlabel(\"Ranking of Initial Summary\")\n",
        "  if performance_metric == \"win_rate\" or performance_metric == \"win_rate_with_tie_scores\": \n",
        "    plt.ylabel(\"Win Rate vs. \\n Initial Summary (%)\")\n",
        "    # plt.title(\"Win rate vs Initial Summary Ranking\")\n",
        "  elif performance_metric == \"ranking\": \n",
        "    plt.ylabel(\"Ranking\")\n",
        "    # plt.title(\"Ranking vs Initial Summary Ranking\")\n",
        "    ax.invert_yaxis()\n",
        "\n",
        "  else: \n",
        "    raise NotImplementedError()\n",
        "  # plt.legend()\n",
        "  plt.xticks(range(1,6))\n",
        "  plt.xlim(1, 5)\n",
        "  plt.ylim(0, 100)\n",
        "  # plt.legend(loc='upper center', bbox_to_anchor=(0.4, -0.2))\n",
        "  plt.legend(loc='upper left', frameon=False)\n",
        "  plt.savefig(fig_output_path / f\"finetuning_win_rate_against_original_summary_performance_{performance_metric}.pdf\", bbox_inches='tight')\n",
        "  plt.show()"
      ]
    },
    {
      "cell_type": "code",
      "execution_count": null,
      "metadata": {
        "colab": {
          "base_uri": "https://localhost:8080/",
          "height": 383
        },
        "id": "nBkKTkA08RHi",
        "outputId": "4ba81f2c-52bf-4f7e-c241-d66af79ef488"
      },
      "outputs": [
        {
          "output_type": "stream",
          "name": "stdout",
          "text": [
            "{'finetuned_feedback_refinement_summary_comparison_rank': 0.62, 'finetuned_original_summary_comparison_rank': 0.59, 'davinci_summary_comparison_rank': 0.29, 'human_reference_summaries_comparison_rank': 0.65}\n",
            "{'finetuned_feedback_refinement_summary_comparison_rank': 0.048783173121456344, 'finetuned_original_summary_comparison_rank': 0.04943110704237103, 'davinci_summary_comparison_rank': 0.045604802157206865, 'human_reference_summaries_comparison_rank': 0.047937248544110224}\n"
          ]
        },
        {
          "output_type": "display_data",
          "data": {
            "image/png": "[encoded data removed]",
            "text/plain": [
              "<Figure size 432x288 with 1 Axes>"
            ]
          },
          "metadata": {
            "needs_background": "light"
          }
        }
      ],
      "source": [
        "params = {'font.size': 12, 'axes.labelsize': 14, 'legend.fontsize': 20, 'xtick.labelsize': 12, 'ytick.labelsize': 14}\n",
        "matplotlib.rcParams.update(params)\n",
        "plot_finetuning_win_rate_against_instruct_summary(results_file, methods_without_instruct, evaluators, metric=\"win_rate_with_tie_scoring\")"
      ]
    },
    {
      "cell_type": "code",
      "execution_count": null,
      "metadata": {
        "colab": {
          "base_uri": "https://localhost:8080/",
          "height": 383
        },
        "id": "zB1WtDion1Zu",
        "outputId": "a29c9e01-6ab7-4b16-ee20-62f887b956e0"
      },
      "outputs": [
        {
          "output_type": "stream",
          "name": "stdout",
          "text": [
            "{'finetuned_feedback_refinement_summary_comparison_rank': 0.51, 'finetuned_original_summary_comparison_rank': 0.44, 'davinci_instruct_comparison_rank': 0.35, 'davinci_summary_comparison_rank': 0.19}\n",
            "{'finetuned_feedback_refinement_summary_comparison_rank': 0.05024183937956913, 'finetuned_original_summary_comparison_rank': 0.04988876515698589, 'davinci_instruct_comparison_rank': 0.047937248544110224, 'davinci_summary_comparison_rank': 0.039427724440366255}\n"
          ]
        },
        {
          "output_type": "display_data",
          "data": {
            "image/png": "[encoded data removed]",
            "text/plain": [
              "<Figure size 432x288 with 1 Axes>"
            ]
          },
          "metadata": {
            "needs_background": "light"
          }
        }
      ],
      "source": [
        "params = {'font.size': 12, 'axes.labelsize': 14, 'legend.fontsize': 20, 'xtick.labelsize': 12, 'ytick.labelsize': 14}\n",
        "matplotlib.rcParams.update(params)\n",
        "plot_finetuning_win_rate_against_human_summary(results_file, methods_without_human, evaluators, metric=\"win_rate_with_tie_scoring\")"
      ]
    },
    {
      "cell_type": "code",
      "execution_count": null,
      "metadata": {
        "id": "B1_S78M7ow4c"
      },
      "outputs": [],
      "source": [
        "params = {'font.size': 14, 'axes.labelsize': 14, 'legend.fontsize': 12, 'xtick.labelsize': 14, 'ytick.labelsize': 14}\n",
        "matplotlib.rcParams.update(params)\n",
        "#plot_win_rate_against_instruct_summary_across_instruct_summary_performance(results_file, methods_without_instruct, evaluators, performance_metric=\"win_rate_with_tie_scores\")"
      ]
    },
    {
      "cell_type": "code",
      "execution_count": null,
      "metadata": {
        "id": "AK-yxpTzoxAZ"
      },
      "outputs": [],
      "source": [
        "params = {'font.size': 14, 'axes.labelsize': 14, 'legend.fontsize': 12, 'xtick.labelsize': 14, 'ytick.labelsize': 14}\n",
        "matplotlib.rcParams.update(params)\n",
        "#plot_win_rate_against_human_summary_across_human_summary_performance(results_file, methods_without_human, evaluators, performance_metric=\"win_rate_with_tie_scores\")"
      ]
    },
    {
      "cell_type": "code",
      "execution_count": null,
      "metadata": {
        "id": "FmdbU80VFRfX"
      },
      "outputs": [],
      "source": [
        ""
      ]
    }
  ],
  "metadata": {
    "colab": {
      "collapsed_sections": [],
      "name": "Learning from NL Feedback - Workshop Results.ipynb",
      "provenance": [],
      "include_colab_link": true
    },
    "kernelspec": {
      "display_name": "Python 3",
      "name": "python3"
    },
    "language_info": {
      "name": "python"
    }
  },
  "nbformat": 4,
  "nbformat_minor": 0
}