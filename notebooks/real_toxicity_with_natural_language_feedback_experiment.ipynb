{
  "nbformat": 4,
  "nbformat_minor": 0,
  "metadata": {
    "colab": {
      "name": "real_toxicity_with_natural_language_feedback_experiment.ipynb",
      "provenance": [],
      "authorship_tag": "ABX9TyOcUM70gab0wYCrB2NpFsgT",
      "include_colab_link": true
    },
    "kernelspec": {
      "name": "python3",
      "display_name": "Python 3"
    },
    "language_info": {
      "name": "python"
    }
  },
  "cells": [
    {
      "cell_type": "markdown",
      "metadata": {
        "id": "view-in-github",
        "colab_type": "text"
      },
      "source": [
        "<a href=\"https://colab.research.google.com/github/JeremyAlain/Advanced-Quick-Summary-on-Deep-Learning-by-Goodfellow-Bengio-and-Courville/blob/master/notebooks/real_toxicity_with_natural_language_feedback_experiment.ipynb\" target=\"_parent\"><img src=\"https://colab.research.google.com/assets/colab-badge.svg\" alt=\"Open In Colab\"/></a>"
      ]
    },
    {
      "cell_type": "code",
      "metadata": {
        "id": "s5lMajHODMaD"
      },
      "source": [
        ""
      ],
      "execution_count": null,
      "outputs": []
    }
  ]
}